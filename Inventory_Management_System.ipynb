{
  "nbformat": 4,
  "nbformat_minor": 0,
  "metadata": {
    "colab": {
      "name": "Inventory Management System.ipynb",
      "provenance": [],
      "collapsed_sections": []
    },
    "kernelspec": {
      "display_name": "Python 3",
      "name": "python3"
    },
    "language_info": {
      "name": "python"
    }
  },
  "cells": [
    {
      "cell_type": "code",
      "metadata": {
        "id": "LpV5oUl9J4LU"
      },
      "source": [
        "import time\n",
        "import json\n",
        "record={}\n",
        "sales ={}"
      ],
      "execution_count": null,
      "outputs": []
    },
    {
      "cell_type": "code",
      "metadata": {
        "id": "ecm4g6BgTyeH"
      },
      "source": [
        "def IMS_add():\n",
        " item_count = int(input(\"Enter the Item Count :\"))\n",
        " for i in range(item_count):\n",
        "  id = int(input(\"Enter Product Id: \"))\n",
        "  n = input('Enter the name: ')\n",
        "  a = input('Enter the author name: ')\n",
        "  y = int(input(\"Enter the Year: \"))\n",
        "  p = int(input(\"Enter the price: \"))\n",
        "  q = int(input(\"Enter the quantity: \"))\n",
        "\n",
        "  record.update({id:{\"Book Name\": n, \"Author Name\" : a, \"Year\": y, \"Price\":p, \"Quantity\": q}})\n",
        "  sales.update({id:{\"Quantity\":amnt, \"Billed\":bill}})\n"
      ],
      "execution_count": 73,
      "outputs": []
    },
    {
      "cell_type": "code",
      "metadata": {
        "id": "LV9-yElI-Q9U"
      },
      "source": [
        " def purchase(): \n",
        "  pid = int(input(\"Enter the Product Id: \"))\n",
        "  print(\"Name Of The Book:\" ,record[pid]['Book Name'])\n",
        "  print(\"Author: \", record[pid]['Author Name'])\n",
        "  print(\"Price Of The Book: Rs.\",record[pid][\"Price\"])\n",
        "  ans = input(\"Would you like to purchase it? Type y for Yes & n for No.\\n\")\n",
        "  if ans=='y':\n",
        "    amnt = int(0)\n",
        "    amnt = int(input(\"Enter the quantity: \"))\n",
        "    record[pid][\"Quantity\"]-= amnt\n",
        "    bill = record[pid]['Price']*amnt      \n",
        "    print(\"You'll be billed for Rs.\", bill)\n",
        "    ans = input(\"Would you like to proceed? Type y for YES or n for NO.\\n\")\n",
        "    if ans == 'y':\n",
        "     amnt += sales[pid]['Quantity'] \n",
        "     bill += sales[pid]['Billed']\n",
        "     sales.update({pid:{\"Quantity\":amnt, \"Billed\":bill, \"Time\": time.ctime()}})\n",
        "     print(\"Thank you for your purchase.\")\n",
        "    elif ans=='n':\n",
        "     print(\"Thank You.\")\n",
        "    else:\n",
        "     print(\"Not a valid answer. Try again.\")\n",
        "  elif ans=='n':\n",
        "     print(\"Thank You.\")\n",
        "  else:\n",
        "     print(\"Not a valid answer. Try again.\")"
      ],
      "execution_count": 141,
      "outputs": []
    },
    {
      "cell_type": "code",
      "metadata": {
        "id": "JbUVSgnCNq2b"
      },
      "source": [
        "js = json.dumps(record)\n",
        "sl = json.dumps(sales)"
      ],
      "execution_count": 150,
      "outputs": []
    },
    {
      "cell_type": "code",
      "metadata": {
        "id": "oU-d3FX_N-Er"
      },
      "source": [
        "fd = open(\"sales.json\", \"w\")\n",
        "fd.write(sl)\n",
        "fd.close()"
      ],
      "execution_count": 88,
      "outputs": []
    },
    {
      "cell_type": "code",
      "metadata": {
        "id": "PBEExKXKPUjZ"
      },
      "source": [
        "fd = open(\"record.json\", \"r\")\n",
        "txt = fd.read()\n",
        "fd.close()"
      ],
      "execution_count": 49,
      "outputs": []
    },
    {
      "cell_type": "code",
      "metadata": {
        "id": "dihFIT8fPnZn"
      },
      "source": [
        "record=json.loads(txt)"
      ],
      "execution_count": 93,
      "outputs": []
    },
    {
      "cell_type": "code",
      "metadata": {
        "id": "3wxqaXhQQDsy"
      },
      "source": [
        "def gui():\n",
        "  reply = input(\"Hello There, Would you like to buy a book? Type y for Yes or n for No.\\n\")\n",
        "  if reply == 'y':\n",
        "   purchase()\n",
        "  elif reply == 'n':\n",
        "   print(\"It's okay...You can continue browsing.\")\n",
        "  else:\n",
        "   print(\"Please Enter a Valid Answer!!!\")\n",
        "  while reply == 'n':\n",
        "   pswd = input(\"Enter password for adding to the inventory: \")\n",
        "   #Password is 12345\n",
        "   if pswd == '12345':\n",
        "    IMS_add()\n",
        "   else:\n",
        "    print(\"Wrong Password!!\")"
      ],
      "execution_count": 142,
      "outputs": []
    },
    {
      "cell_type": "code",
      "metadata": {
        "colab": {
          "base_uri": "https://localhost:8080/"
        },
        "id": "KTCyRy64tEsq",
        "outputId": "1900aa5d-d9a5-4adb-d39b-f31ebf16fa30"
      },
      "source": [
        "gui()"
      ],
      "execution_count": 148,
      "outputs": [
        {
          "output_type": "stream",
          "name": "stdout",
          "text": [
            "Hello There, Would you like to buy a book? Type y for Yes or n for No.\n",
            "y\n",
            "Enter the Product Id: 1001\n",
            "Name Of The Book: In Search of Lost Time\n",
            "Author:  Marcel Proust\n",
            "Price Of The Book: Rs. 332\n",
            "Would you like to purchase it? Type y for Yes & n for No.\n",
            "y\n",
            "Enter the quantity: 2\n",
            "You'll be billed for Rs. 664\n",
            "Would you like to proceed? Type y for YES or n for NO.\n",
            "y\n",
            "Thank you for your purchase.\n"
          ]
        }
      ]
    },
    {
      "cell_type": "code",
      "metadata": {
        "colab": {
          "base_uri": "https://localhost:8080/"
        },
        "id": "gzbNOY2DmVOb",
        "outputId": "f3d090ae-af4d-451a-cdcd-4608f4b426c3"
      },
      "source": [
        "sales"
      ],
      "execution_count": 149,
      "outputs": [
        {
          "output_type": "execute_result",
          "data": {
            "text/plain": [
              "{1001: {'Billed': 664, 'Quantity': 2, 'Time': 'Mon Sep  6 16:08:24 2021'},\n",
              " 1002: {'Billed': 0, 'Quantity': 0},\n",
              " 1003: {'Billed': 0, 'Quantity': 0},\n",
              " 1004: {'Billed': 0, 'Quantity': 0},\n",
              " 1005: {'Billed': 0, 'Quantity': 0},\n",
              " 1006: {'Billed': 0, 'Quantity': 0},\n",
              " 1007: {'Billed': 0, 'Quantity': 0},\n",
              " 1008: {'Billed': 0, 'Quantity': 0},\n",
              " 1009: {'Billed': 0, 'Quantity': 0},\n",
              " 1010: {'Billed': 0, 'Quantity': 0},\n",
              " 1011: {'Billed': 0, 'Quantity': 0},\n",
              " 1012: {'Billed': 0, 'Quantity': 0},\n",
              " 1013: {'Billed': 0, 'Quantity': 0},\n",
              " 1014: {'Billed': 0, 'Quantity': 0},\n",
              " 1015: {'Billed': 0, 'Quantity': 0},\n",
              " 1016: {'Billed': 0, 'Quantity': 0},\n",
              " 1017: {'Billed': 0, 'Quantity': 0},\n",
              " 1018: {'Billed': 0, 'Quantity': 0},\n",
              " 1019: {'Billed': 0, 'Quantity': 0},\n",
              " 1020: {'Billed': 0, 'Quantity': 0},\n",
              " 1021: {'Billed': 0, 'Quantity': 0},\n",
              " 1022: {'Billed': 0, 'Quantity': 0},\n",
              " 1023: {'Billed': 0, 'Quantity': 0},\n",
              " 1024: {'Billed': 0, 'Quantity': 0},\n",
              " 1025: {'Billed': 0, 'Quantity': 0},\n",
              " 1026: {'Billed': 0, 'Quantity': 0},\n",
              " 1027: {'Billed': 0, 'Quantity': 0},\n",
              " 1028: {'Billed': 0, 'Quantity': 0},\n",
              " 1029: {'Billed': 0, 'Quantity': 0},\n",
              " 1030: {'Billed': 0, 'Quantity': 0},\n",
              " 1031: {'Billed': 0, 'Quantity': 0},\n",
              " 1032: {'Billed': 861, 'Quantity': 3, 'Time': 'Mon Sep  6 16:07:13 2021'},\n",
              " 1033: {'Billed': 0, 'Quantity': 0}}"
            ]
          },
          "metadata": {},
          "execution_count": 149
        }
      ]
    }
  ]
}